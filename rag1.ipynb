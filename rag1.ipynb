{
 "cells": [
  {
   "cell_type": "code",
   "execution_count": null,
   "metadata": {},
   "outputs": [
    {
     "name": "stderr",
     "output_type": "stream",
     "text": [
      "C:\\Users\\mizan\\AppData\\Local\\Temp\\ipykernel_16936\\61173007.py:22: LangChainDeprecationWarning: The class `Ollama` was deprecated in LangChain 0.3.1 and will be removed in 1.0.0. An updated version of the class exists in the :class:`~langchain-ollama package and should be used instead. To use it run `pip install -U :class:`~langchain-ollama` and import as `from :class:`~langchain_ollama import OllamaLLM``.\n",
      "  model = Ollama(model=MODEL)\n"
     ]
    }
   ],
   "source": [
    "import os\n",
    "\n",
    "# ----- Option 1: Using OpenAI GPT-4 (Chat Model) -----\n",
    "\n",
    "# OPENAI_API_KEY = \"API KEY\"  # Place your API key here\n",
    "\n",
    "# from langchain_community.chat_models import ChatOpenAI\n",
    "# MODEL = \"gpt-4\"\n",
    "# model = ChatOpenAI(model_name=MODEL, openai_api_key=OPENAI_API_KEY)\n",
    "\n",
    "# from langchain.embeddings import OpenAIEmbeddings\n",
    "# embeddings = OpenAIEmbeddings(openai_api_key=OPENAI_API_KEY)\n",
    "\n",
    "\n",
    "# ----- Option 2: Using Local Ollama Model (llama3.1:8b) -----\n",
    "# Comment out this block if you want to use OpenAI instead.\n",
    "from langchain_community.llms import Ollama\n",
    "from langchain_ollama import OllamaEmbeddings\n",
    "\n",
    "#MODEL = \"llama3.1:8b\"  # Change this if needed\n",
    "MODEL = \"deepseek-r1:8b\"  # Change this if needed\n",
    "model = Ollama(model=MODEL)\n",
    "embeddings = OllamaEmbeddings(model=MODEL)\n"
   ]
  },
  {
   "cell_type": "code",
   "execution_count": null,
   "metadata": {},
   "outputs": [],
   "source": [
    "from langchain_community.document_loaders import PyPDFLoader\n",
    "from langchain_community.vectorstores import DocArrayInMemorySearch\n",
    "\n",
    "# Load and split the PDF into pages\n",
    "loader = PyPDFLoader(\"ragtest.pdf\")\n",
    "pages = loader.load_and_split()\n",
    "\n",
    "# Create an in-memory vector store from the PDF pages using the embeddings\n",
    "vectorstore = DocArrayInMemorySearch.from_documents(pages, embedding=embeddings)\n",
    "retriever = vectorstore.as_retriever()"
   ]
  },
  {
   "cell_type": "code",
   "execution_count": 9,
   "metadata": {},
   "outputs": [],
   "source": [
    "# Cell 3: Build the Composite Chain\n",
    "# =====================\n",
    "from langchain.prompts import PromptTemplate\n",
    "from operator import itemgetter\n",
    "from langchain_core.output_parsers import StrOutputParser\n",
    "\n",
    "# Define the prompt template\n",
    "template = \"\"\"\n",
    "Answer the question based on the context below. If you can't \n",
    "answer the question, reply \"I don't know\".\n",
    "\n",
    "Context: {context}\n",
    "\n",
    "Question: {question}\n",
    "\"\"\"\n",
    "prompt = PromptTemplate.from_template(template)\n",
    "parser = StrOutputParser()\n",
    "\n",
    "# Create a composite chain:\n",
    "# 1. Retrieve context based on the question.\n",
    "# 2. Format the prompt.\n",
    "# 3. Get an answer from the model and parse it.\n",
    "chain = (\n",
    "    {\n",
    "        \"context\": itemgetter(\"question\") | retriever,\n",
    "        \"question\": itemgetter(\"question\"),\n",
    "    }\n",
    "    | prompt\n",
    "    | model\n",
    "    | parser\n",
    ")"
   ]
  },
  {
   "cell_type": "code",
   "execution_count": 10,
   "metadata": {},
   "outputs": [
    {
     "name": "stdout",
     "output_type": "stream",
     "text": [
      "The Chronos Amulet grants its wearer the ability to manipulate time.\n"
     ]
    }
   ],
   "source": [
    "# Cell 4: Ask a Question & Stream the Answer\n",
    "# =====================\n",
    "# Change the question here as needed.\n",
    "question_input = {\"question\": \"What does the Chronos Amulet do?\"}\n",
    "\n",
    "# Stream the answer and print it in real time\n",
    "for s in chain.stream(question_input):\n",
    "    print(s, end=\"\", flush=True)\n",
    "print()  # Ensure a newline at the end"
   ]
  }
 ],
 "metadata": {
  "kernelspec": {
   "display_name": "venv",
   "language": "python",
   "name": "python3"
  },
  "language_info": {
   "codemirror_mode": {
    "name": "ipython",
    "version": 3
   },
   "file_extension": ".py",
   "mimetype": "text/x-python",
   "name": "python",
   "nbconvert_exporter": "python",
   "pygments_lexer": "ipython3",
   "version": "3.13.1"
  }
 },
 "nbformat": 4,
 "nbformat_minor": 2
}
